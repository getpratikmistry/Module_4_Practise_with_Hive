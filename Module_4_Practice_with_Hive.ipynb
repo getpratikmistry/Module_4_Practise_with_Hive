{
  "nbformat": 4,
  "nbformat_minor": 0,
  "metadata": {
    "colab": {
      "provenance": []
    },
    "kernelspec": {
      "name": "python3",
      "display_name": "Python 3"
    }
  },
  "cells": [
    {
      "metadata": {
        "id": "sq8U3BtmhtRx"
      },
      "cell_type": "markdown",
      "source": [
        "\n",
        "# **Running Hive on Pyspark in Colab**\n",
        "\n",
        "Prepare PySpark Cluster"
      ]
    },
    {
      "metadata": {
        "id": "lh5NCoc8fsSO"
      },
      "cell_type": "code",
      "source": [
        "# innstall java\n",
        "!apt-get install openjdk-8-jdk-headless -qq > /dev/null\n",
        "\n",
        "# install spark (change the version number if needed)\n",
        "!wget -q https://archive.apache.org/dist/spark/spark-3.0.0/spark-3.0.0-bin-hadoop3.2.tgz\n",
        "\n",
        "# unzip the spark file to the current folder\n",
        "!tar xf spark-3.0.0-bin-hadoop3.2.tgz\n",
        "\n",
        "# set your spark folder to your system path environment.\n",
        "import os\n",
        "os.environ[\"JAVA_HOME\"] = \"/usr/lib/jvm/java-8-openjdk-amd64\"\n",
        "os.environ[\"SPARK_HOME\"] = \"/content/spark-3.0.0-bin-hadoop3.2\"\n",
        "\n",
        "\n",
        "# install findspark using pip\n",
        "!pip install -q findspark"
      ],
      "execution_count": 3,
      "outputs": []
    },
    {
      "metadata": {
        "id": "KwrqMk3HiMiE"
      },
      "cell_type": "markdown",
      "source": [
        "#Run a local spark session to test your installation:"
      ]
    },
    {
      "metadata": {
        "id": "9_Uz1NL4gHFx"
      },
      "cell_type": "code",
      "source": [
        "import findspark\n",
        "findspark.init()\n",
        "from pyspark.sql import SparkSession\n",
        "#spark = SparkSession.builder.master(\"local[*]\").getOrCreate()\n",
        "spark = SparkSession.builder.master(\"local[*]\").enableHiveSupport().getOrCreate()\n"
      ],
      "execution_count": 4,
      "outputs": []
    },
    {
      "cell_type": "markdown",
      "source": [
        "#Show Existing **Databases**"
      ],
      "metadata": {
        "id": "gKKY0W7BG1i2"
      }
    },
    {
      "cell_type": "code",
      "source": [
        "spark.sql(\"show databases\").show()"
      ],
      "metadata": {
        "colab": {
          "base_uri": "https://localhost:8080/"
        },
        "id": "9f59ZBNnSZJg",
        "outputId": "58523d14-8ccf-444f-a1b3-bdb1981b8bdb"
      },
      "execution_count": 5,
      "outputs": [
        {
          "output_type": "stream",
          "name": "stdout",
          "text": [
            "+---------+\n",
            "|namespace|\n",
            "+---------+\n",
            "|  default|\n",
            "+---------+\n",
            "\n"
          ]
        }
      ]
    },
    {
      "cell_type": "code",
      "source": [
        "# Task: Delete the \"bostonh\" database\n",
        "database_name = \"bostonhousing\"\n",
        "drop_database_query = f\"DROP DATABASE IF EXISTS {database_name} CASCADE\"\n",
        "\n",
        "# Execute the query using spark.sql\n",
        "#spark.sql(drop_database_query)\n"
      ],
      "metadata": {
        "id": "ywHhc4t5cjFs"
      },
      "execution_count": 6,
      "outputs": []
    },
    {
      "cell_type": "markdown",
      "source": [
        "#Create a New Database"
      ],
      "metadata": {
        "id": "uClZcR7fG_LU"
      }
    },
    {
      "cell_type": "code",
      "source": [
        "spark.sql(f\"CREATE DATABASE {database_name}\")"
      ],
      "metadata": {
        "colab": {
          "base_uri": "https://localhost:8080/"
        },
        "id": "6wxMwB4PSlMg",
        "outputId": "08ff0ad5-a815-409a-92ee-6ff858f8956c"
      },
      "execution_count": 7,
      "outputs": [
        {
          "output_type": "execute_result",
          "data": {
            "text/plain": [
              "DataFrame[]"
            ]
          },
          "metadata": {},
          "execution_count": 7
        }
      ]
    },
    {
      "cell_type": "code",
      "source": [
        "spark.sql(\"show databases\").show()"
      ],
      "metadata": {
        "colab": {
          "base_uri": "https://localhost:8080/"
        },
        "id": "URCs8xZ4HGZN",
        "outputId": "f92c5b0f-39bd-4d4d-a877-e4fb9bce44df"
      },
      "execution_count": 8,
      "outputs": [
        {
          "output_type": "stream",
          "name": "stdout",
          "text": [
            "+-------------+\n",
            "|    namespace|\n",
            "+-------------+\n",
            "|bostonhousing|\n",
            "|      default|\n",
            "+-------------+\n",
            "\n"
          ]
        }
      ]
    },
    {
      "cell_type": "markdown",
      "source": [
        "# Load Data to Spark Cluster"
      ],
      "metadata": {
        "id": "vG2G0cECHTv6"
      }
    },
    {
      "cell_type": "code",
      "source": [
        "# Step 1: Read the given CSV file\n",
        "df = spark.read.csv('/content/BostonHousing.csv', sep=',', inferSchema=True, header=True)\n",
        "df_main = df\n",
        "#dataset = spark.read.csv('BostonHousing.csv',inferSchema=True, header =True)"
      ],
      "metadata": {
        "id": "aMQJ2zpZ1Qw3"
      },
      "execution_count": 10,
      "outputs": []
    },
    {
      "cell_type": "code",
      "source": [
        "df.show()"
      ],
      "metadata": {
        "colab": {
          "base_uri": "https://localhost:8080/"
        },
        "id": "12zOnB5LHY-h",
        "outputId": "750774ef-81a3-47a1-9497-56d339e5715e"
      },
      "execution_count": 11,
      "outputs": [
        {
          "output_type": "stream",
          "name": "stdout",
          "text": [
            "+-------+----+-----+----+-----+-----+-----+------+---+---+-------+------+-----+----+\n",
            "|   crim|  zn|indus|chas|  nox|   rm|  age|   dis|rad|tax|ptratio|     b|lstat|medv|\n",
            "+-------+----+-----+----+-----+-----+-----+------+---+---+-------+------+-----+----+\n",
            "|0.00632|18.0| 2.31|   0|0.538|6.575| 65.2|  4.09|  1|296|   15.3| 396.9| 4.98|24.0|\n",
            "|0.02731| 0.0| 7.07|   0|0.469|6.421| 78.9|4.9671|  2|242|   17.8| 396.9| 9.14|21.6|\n",
            "|0.02729| 0.0| 7.07|   0|0.469|7.185| 61.1|4.9671|  2|242|   17.8|392.83| 4.03|34.7|\n",
            "|0.03237| 0.0| 2.18|   0|0.458|6.998| 45.8|6.0622|  3|222|   18.7|394.63| 2.94|33.4|\n",
            "|0.06905| 0.0| 2.18|   0|0.458|7.147| 54.2|6.0622|  3|222|   18.7| 396.9| 5.33|36.2|\n",
            "|0.02985| 0.0| 2.18|   0|0.458| 6.43| 58.7|6.0622|  3|222|   18.7|394.12| 5.21|28.7|\n",
            "|0.08829|12.5| 7.87|   0|0.524|6.012| 66.6|5.5605|  5|311|   15.2| 395.6|12.43|22.9|\n",
            "|0.14455|12.5| 7.87|   0|0.524|6.172| 96.1|5.9505|  5|311|   15.2| 396.9|19.15|27.1|\n",
            "|0.21124|12.5| 7.87|   0|0.524|5.631|100.0|6.0821|  5|311|   15.2|386.63|29.93|16.5|\n",
            "|0.17004|12.5| 7.87|   0|0.524|6.004| 85.9|6.5921|  5|311|   15.2|386.71| 17.1|18.9|\n",
            "|0.22489|12.5| 7.87|   0|0.524|6.377| 94.3|6.3467|  5|311|   15.2|392.52|20.45|15.0|\n",
            "|0.11747|12.5| 7.87|   0|0.524|6.009| 82.9|6.2267|  5|311|   15.2| 396.9|13.27|18.9|\n",
            "|0.09378|12.5| 7.87|   0|0.524|5.889| 39.0|5.4509|  5|311|   15.2| 390.5|15.71|21.7|\n",
            "|0.62976| 0.0| 8.14|   0|0.538|5.949| 61.8|4.7075|  4|307|   21.0| 396.9| 8.26|20.4|\n",
            "|0.63796| 0.0| 8.14|   0|0.538|6.096| 84.5|4.4619|  4|307|   21.0|380.02|10.26|18.2|\n",
            "|0.62739| 0.0| 8.14|   0|0.538|5.834| 56.5|4.4986|  4|307|   21.0|395.62| 8.47|19.9|\n",
            "|1.05393| 0.0| 8.14|   0|0.538|5.935| 29.3|4.4986|  4|307|   21.0|386.85| 6.58|23.1|\n",
            "| 0.7842| 0.0| 8.14|   0|0.538| 5.99| 81.7|4.2579|  4|307|   21.0|386.75|14.67|17.5|\n",
            "|0.80271| 0.0| 8.14|   0|0.538|5.456| 36.6|3.7965|  4|307|   21.0|288.99|11.69|20.2|\n",
            "| 0.7258| 0.0| 8.14|   0|0.538|5.727| 69.5|3.7965|  4|307|   21.0|390.95|11.28|18.2|\n",
            "+-------+----+-----+----+-----+-----+-----+------+---+---+-------+------+-----+----+\n",
            "only showing top 20 rows\n",
            "\n"
          ]
        }
      ]
    },
    {
      "cell_type": "markdown",
      "source": [
        "# Save dataset to a new table in Hive"
      ],
      "metadata": {
        "id": "PYrOacWGHh5Y"
      }
    },
    {
      "cell_type": "code",
      "source": [
        "df.write.mode(\"overwrite\").saveAsTable(\"bostonhousing.bos_housing\")"
      ],
      "metadata": {
        "id": "EA8PVz5m265o"
      },
      "execution_count": 12,
      "outputs": []
    },
    {
      "cell_type": "markdown",
      "source": [
        "# Task 1: Data Overview"
      ],
      "metadata": {
        "id": "-HCjZulByJOU"
      }
    },
    {
      "cell_type": "code",
      "source": [
        "# Task 1: Retrieve and display the first 5 rows of the dataset\n",
        "df_5 = spark.sql(\"SELECT * FROM bostonhousing.bos_housing LIMIT 5\")\n",
        "df_5.show()"
      ],
      "metadata": {
        "colab": {
          "base_uri": "https://localhost:8080/"
        },
        "id": "zkljm97RZlF9",
        "outputId": "ec47baf8-3e93-4f07-bcb8-edd9c7eb6d43"
      },
      "execution_count": 13,
      "outputs": [
        {
          "output_type": "stream",
          "name": "stdout",
          "text": [
            "+-------+----+-----+----+-----+-----+----+------+---+---+-------+------+-----+----+\n",
            "|   crim|  zn|indus|chas|  nox|   rm| age|   dis|rad|tax|ptratio|     b|lstat|medv|\n",
            "+-------+----+-----+----+-----+-----+----+------+---+---+-------+------+-----+----+\n",
            "|0.00632|18.0| 2.31|   0|0.538|6.575|65.2|  4.09|  1|296|   15.3| 396.9| 4.98|24.0|\n",
            "|0.02731| 0.0| 7.07|   0|0.469|6.421|78.9|4.9671|  2|242|   17.8| 396.9| 9.14|21.6|\n",
            "|0.02729| 0.0| 7.07|   0|0.469|7.185|61.1|4.9671|  2|242|   17.8|392.83| 4.03|34.7|\n",
            "|0.03237| 0.0| 2.18|   0|0.458|6.998|45.8|6.0622|  3|222|   18.7|394.63| 2.94|33.4|\n",
            "|0.06905| 0.0| 2.18|   0|0.458|7.147|54.2|6.0622|  3|222|   18.7| 396.9| 5.33|36.2|\n",
            "+-------+----+-----+----+-----+-----+----+------+---+---+-------+------+-----+----+\n",
            "\n"
          ]
        }
      ]
    },
    {
      "cell_type": "code",
      "source": [
        "# Task 1: Find and report the total number of records in the dataset\n",
        "total_records = spark.sql(\"SELECT COUNT(*) AS total_records FROM bostonhousing.bos_housing\").collect()[0][\"total_records\"]\n",
        "print(\"Total number of records in the dataset:\", total_records)"
      ],
      "metadata": {
        "colab": {
          "base_uri": "https://localhost:8080/"
        },
        "id": "4wXELYKiZlJS",
        "outputId": "1e9ad96c-f8ce-443e-868a-9062587ea153"
      },
      "execution_count": 14,
      "outputs": [
        {
          "output_type": "stream",
          "name": "stdout",
          "text": [
            "Total number of records in the dataset: 506\n"
          ]
        }
      ]
    },
    {
      "cell_type": "markdown",
      "source": [
        "# Task 2: Descriptive Statistics"
      ],
      "metadata": {
        "id": "HFLhfwjNz8H8"
      }
    },
    {
      "cell_type": "code",
      "source": [
        "# Task 1: Calculate and display basic statistics (mean, standard deviation, min, max) for the \"medv\" (median home value) column.\n",
        "statistics_query = \"\"\"\n",
        "SELECT\n",
        "    AVG(medv) AS mean,\n",
        "    STDDEV(medv) AS stddev,\n",
        "    MIN(medv) AS min,\n",
        "    MAX(medv) AS max\n",
        "FROM\n",
        "    bostonhousing.bos_housing\n",
        "\"\"\"\n",
        "\n",
        "# Execute the query\n",
        "statistics = spark.sql(statistics_query)\n",
        "statistics.show()"
      ],
      "metadata": {
        "colab": {
          "base_uri": "https://localhost:8080/"
        },
        "id": "5tqyKQnhz73l",
        "outputId": "8259c4d3-8d0d-4933-c889-4035ce87eefd"
      },
      "execution_count": 15,
      "outputs": [
        {
          "output_type": "stream",
          "name": "stdout",
          "text": [
            "+------------------+-----------------+---+----+\n",
            "|              mean|           stddev|min| max|\n",
            "+------------------+-----------------+---+----+\n",
            "|22.532806324110698|9.197104087379815|5.0|50.0|\n",
            "+------------------+-----------------+---+----+\n",
            "\n"
          ]
        }
      ]
    },
    {
      "cell_type": "code",
      "source": [
        "# Task 2: Calculate and display the mean \"rm\" (average number of rooms per dwelling).\n",
        "mean_rm_query = \"\"\"\n",
        "SELECT\n",
        "    AVG(rm) AS mean_rm\n",
        "FROM\n",
        "    bostonhousing.bos_housing\n",
        "\"\"\"\n",
        "\n",
        "# Execute the query\n",
        "mean_rm = spark.sql(mean_rm_query)\n",
        "mean_rm.show()"
      ],
      "metadata": {
        "colab": {
          "base_uri": "https://localhost:8080/"
        },
        "id": "noG46WGP0WRn",
        "outputId": "f458fdaf-3388-4c1b-c173-a40188ffc187"
      },
      "execution_count": 16,
      "outputs": [
        {
          "output_type": "stream",
          "name": "stdout",
          "text": [
            "+-----------------+\n",
            "|          mean_rm|\n",
            "+-----------------+\n",
            "|6.284634387351787|\n",
            "+-----------------+\n",
            "\n"
          ]
        }
      ]
    },
    {
      "cell_type": "markdown",
      "source": [
        "# Task 3: Data Exploration"
      ],
      "metadata": {
        "id": "HVF5eqIS0Zi8"
      }
    },
    {
      "cell_type": "code",
      "source": [
        "# Task 1: Identify the property with the highest crime rate (\"crim\"). Provide details about this property.\n",
        "highest_crime_query = \"\"\"\n",
        "SELECT *\n",
        "FROM bostonhousing.bos_housing\n",
        "ORDER BY crim DESC\n",
        "LIMIT 1\n",
        "\"\"\"\n",
        "\n",
        "highest_crime_property = spark.sql(highest_crime_query)\n",
        "highest_crime_property.show()"
      ],
      "metadata": {
        "colab": {
          "base_uri": "https://localhost:8080/"
        },
        "id": "2VIrP1G40dAS",
        "outputId": "3024e004-bafd-4ad7-eba9-4b57d53384c4"
      },
      "execution_count": 17,
      "outputs": [
        {
          "output_type": "stream",
          "name": "stdout",
          "text": [
            "+-------+---+-----+----+-----+-----+----+------+---+---+-------+-----+-----+----+\n",
            "|   crim| zn|indus|chas|  nox|   rm| age|   dis|rad|tax|ptratio|    b|lstat|medv|\n",
            "+-------+---+-----+----+-----+-----+----+------+---+---+-------+-----+-----+----+\n",
            "|88.9762|0.0| 18.1|   0|0.671|6.968|91.9|1.4165| 24|666|   20.2|396.9|17.21|10.4|\n",
            "+-------+---+-----+----+-----+-----+----+------+---+---+-------+-----+-----+----+\n",
            "\n"
          ]
        }
      ]
    },
    {
      "cell_type": "code",
      "source": [
        "# Task 2: Find and report the property with the lowest median home value (\"medv\"). Include its details.\n",
        "lowest_medv_query = \"\"\"\n",
        "SELECT *\n",
        "FROM bostonhousing.bos_housing\n",
        "ORDER BY medv ASC\n",
        "LIMIT 1\n",
        "\"\"\"\n",
        "\n",
        "lowest_medv_property = spark.sql(lowest_medv_query)\n",
        "lowest_medv_property.show()\n"
      ],
      "metadata": {
        "colab": {
          "base_uri": "https://localhost:8080/"
        },
        "id": "Ro_qvrP20e0U",
        "outputId": "74d9d087-54e5-4c66-dbd8-1b463a8420c6"
      },
      "execution_count": 18,
      "outputs": [
        {
          "output_type": "stream",
          "name": "stdout",
          "text": [
            "+-------+---+-----+----+-----+-----+-----+------+---+---+-------+-----+-----+----+\n",
            "|   crim| zn|indus|chas|  nox|   rm|  age|   dis|rad|tax|ptratio|    b|lstat|medv|\n",
            "+-------+---+-----+----+-----+-----+-----+------+---+---+-------+-----+-----+----+\n",
            "|38.3518|0.0| 18.1|   0|0.693|5.453|100.0|1.4896| 24|666|   20.2|396.9|30.59| 5.0|\n",
            "+-------+---+-----+----+-----+-----+-----+------+---+---+-------+-----+-----+----+\n",
            "\n"
          ]
        }
      ]
    },
    {
      "cell_type": "markdown",
      "source": [
        "# Task 4: Data Distribution Analysis"
      ],
      "metadata": {
        "id": "D6NVRmJs0tu0"
      }
    },
    {
      "cell_type": "code",
      "source": [
        "# Task 1: Create a histogram showing the distribution of the \"age\" column.\n",
        "\n",
        "import matplotlib.pyplot as plt\n",
        "\n",
        "df = spark.sql(\"SELECT * FROM bostonhousing.bos_housing\")\n",
        "\n",
        "age_data = df.select(\"age\").toPandas()\n",
        "\n",
        "plt.figure(figsize=(10, 6))\n",
        "plt.hist(age_data['age'], bins=20, edgecolor='k', alpha=0.7)\n",
        "plt.title('Distribution of Age')\n",
        "plt.xlabel('Age')\n",
        "plt.ylabel('Frequency')\n",
        "plt.grid(axis='y', linestyle='--', alpha=0.7)\n",
        "plt.show()"
      ],
      "metadata": {
        "colab": {
          "base_uri": "https://localhost:8080/",
          "height": 564
        },
        "id": "ROInEH5d0owW",
        "outputId": "d8f926a8-126d-41b6-c666-baf297a48409"
      },
      "execution_count": 19,
      "outputs": [
        {
          "output_type": "display_data",
          "data": {
            "text/plain": [
              "<Figure size 1000x600 with 1 Axes>"
            ],
            "image/png": "[encoded data removed]"
          },
          "metadata": {}
        }
      ]
    },
    {
      "cell_type": "code",
      "source": [
        "# Task 2: Calculate and report the percentage of properties with a \"chas\" value of 1 (indicating proximity to the Charles River).\n",
        "percentage_query = \"\"\"\n",
        "SELECT\n",
        "    (SUM(CASE WHEN chas = 1 THEN 1 ELSE 0 END) / COUNT(*)) * 100 AS chas_percentage\n",
        "FROM bostonhousing.bos_housing\n",
        "\"\"\"\n",
        "\n",
        "percentage_result = spark.sql(percentage_query)\n",
        "percentage_result.show()"
      ],
      "metadata": {
        "colab": {
          "base_uri": "https://localhost:8080/"
        },
        "id": "0k65iU9j3jeq",
        "outputId": "4404c0ab-2ed1-49f7-ea73-2ac95159764c"
      },
      "execution_count": 20,
      "outputs": [
        {
          "output_type": "stream",
          "name": "stdout",
          "text": [
            "+----------------+\n",
            "| chas_percentage|\n",
            "+----------------+\n",
            "|6.91699604743083|\n",
            "+----------------+\n",
            "\n"
          ]
        }
      ]
    },
    {
      "cell_type": "markdown",
      "source": [
        "# Task 5: Correlation Analysis"
      ],
      "metadata": {
        "id": "vqSimEVx1C_H"
      }
    },
    {
      "cell_type": "code",
      "source": [
        "# Task 1: Calculate the correlation coefficient between \"rm\" and \"medv.\" Explain the relationship between the average number of rooms and median home value.\n",
        "from pyspark.sql.functions import corr\n",
        "\n",
        "correlation = df.stat.corr(\"rm\", \"medv\")\n",
        "print(f\"Correlation coefficient between 'rm' and 'medv': {correlation}\")"
      ],
      "metadata": {
        "id": "ZfwlWFQ607lL",
        "colab": {
          "base_uri": "https://localhost:8080/"
        },
        "outputId": "c1037115-c2da-459c-d048-6242d8fd1141"
      },
      "execution_count": 21,
      "outputs": [
        {
          "output_type": "stream",
          "name": "stdout",
          "text": [
            "Correlation coefficient between 'rm' and 'medv': 0.6953599470715401\n"
          ]
        }
      ]
    },
    {
      "cell_type": "code",
      "source": [
        "# Task 2: Investigate if there is any correlation between \"ptratio\" (pupil-teacher ratio) and \"nox\" (nitrogen oxide concentration). Report your findings.\n",
        "correlation_ptratio_nox = df.stat.corr(\"ptratio\", \"nox\")\n",
        "print(f\"Correlation coefficient between 'ptratio' and 'nox': {correlation_ptratio_nox}\")"
      ],
      "metadata": {
        "colab": {
          "base_uri": "https://localhost:8080/"
        },
        "id": "YpFZQco-Knti",
        "outputId": "b3e47b4a-91cd-44b3-e006-12c6390c8c20"
      },
      "execution_count": 22,
      "outputs": [
        {
          "output_type": "stream",
          "name": "stdout",
          "text": [
            "Correlation coefficient between 'ptratio' and 'nox': 0.18893267711276893\n"
          ]
        }
      ]
    },
    {
      "cell_type": "markdown",
      "source": [
        "# Task 6: Advanced Querying"
      ],
      "metadata": {
        "id": "wfghS0SZ1E3G"
      }
    },
    {
      "cell_type": "code",
      "source": [
        "# Task 1: Write a HiveQL query to identify and display the top 5 neighborhoods with the highest median home values (\"medv\").\n",
        "top_5_neighborhoods_query = \"\"\"\n",
        "SELECT *\n",
        "FROM bostonhousing.bos_housing\n",
        "ORDER BY medv DESC\n",
        "LIMIT 5\n",
        "\"\"\"\n",
        "\n",
        "top_5_neighborhoods = spark.sql(top_5_neighborhoods_query)\n",
        "top_5_neighborhoods.show()"
      ],
      "metadata": {
        "id": "IlYc9AIS09G3",
        "colab": {
          "base_uri": "https://localhost:8080/"
        },
        "outputId": "ffc05c2e-1266-4d14-a25e-ba6fb454fab6"
      },
      "execution_count": 23,
      "outputs": [
        {
          "output_type": "stream",
          "name": "stdout",
          "text": [
            "+-------+----+-----+----+-----+-----+----+------+---+---+-------+------+-----+----+\n",
            "|   crim|  zn|indus|chas|  nox|   rm| age|   dis|rad|tax|ptratio|     b|lstat|medv|\n",
            "+-------+----+-----+----+-----+-----+----+------+---+---+-------+------+-----+----+\n",
            "|1.51902| 0.0|19.58|   1|0.605|8.375|93.9| 2.162|  5|403|   14.7|388.45| 3.32|50.0|\n",
            "|0.01381|80.0| 0.46|   0|0.422|7.875|32.0|5.6484|  4|255|   14.4|394.23| 2.97|50.0|\n",
            "|2.01019| 0.0|19.58|   0|0.605|7.929|96.2|2.0459|  5|403|   14.7| 369.3|  3.7|50.0|\n",
            "|1.83377| 0.0|19.58|   1|0.605|7.802|98.2|2.0407|  5|403|   14.7|389.61| 1.92|50.0|\n",
            "|1.46336| 0.0|19.58|   0|0.605|7.489|90.8|1.9709|  5|403|   14.7|374.43| 1.73|50.0|\n",
            "+-------+----+-----+----+-----+-----+----+------+---+---+-------+------+-----+----+\n",
            "\n"
          ]
        }
      ]
    },
    {
      "cell_type": "code",
      "source": [
        "# Task 2: Calculate and report the average property age for neighborhoods with a \"chas\" value of 1 compared to those with \"chas\" value of 0.\n",
        "# Average age for chas = 1\n",
        "avg_age_chas_1 = df.filter(df.chas == 1).selectExpr(\"AVG(age)\").first()[0]\n",
        "\n",
        "# Average age for chas = 0\n",
        "avg_age_chas_0 = df.filter(df.chas == 0).selectExpr(\"AVG(age)\").first()[0]\n",
        "\n",
        "print(f\"Average property age for neighborhoods with chas = 1: {avg_age_chas_1}\")\n",
        "print(f\"Average property age for neighborhoods with chas = 0: {avg_age_chas_0}\")\n"
      ],
      "metadata": {
        "colab": {
          "base_uri": "https://localhost:8080/"
        },
        "id": "Uz9hGOeILmbA",
        "outputId": "8066a993-e5f4-403e-ab94-9f43e7caaf20"
      },
      "execution_count": 24,
      "outputs": [
        {
          "output_type": "stream",
          "name": "stdout",
          "text": [
            "Average property age for neighborhoods with chas = 1: 77.50000000000001\n",
            "Average property age for neighborhoods with chas = 0: 67.91167728237794\n"
          ]
        }
      ]
    },
    {
      "cell_type": "markdown",
      "source": [
        "# Task 7: Visualization"
      ],
      "metadata": {
        "id": "fsLTv8sC1GiE"
      }
    },
    {
      "cell_type": "code",
      "source": [
        "# Task 1: Create a Hive view named \"property_age_view\" that includes the \"age\" and \"medv\" columns.\n",
        "create_view_query = \"\"\"\n",
        "CREATE VIEW property_age_view AS\n",
        "SELECT age, medv\n",
        "FROM bostonhousing.bos_housing\n",
        "\"\"\"\n",
        "\n",
        "spark.sql(create_view_query)\n",
        "\n",
        "property_age_view = spark.sql(\"SELECT * FROM property_age_view\")\n",
        "property_age_view.show();"
      ],
      "metadata": {
        "id": "5bSkXv2m0-Rz",
        "colab": {
          "base_uri": "https://localhost:8080/"
        },
        "outputId": "b1fabf52-31ed-4c3e-d421-4613df1963e7"
      },
      "execution_count": 27,
      "outputs": [
        {
          "output_type": "stream",
          "name": "stdout",
          "text": [
            "+-----+----+\n",
            "|  age|medv|\n",
            "+-----+----+\n",
            "| 65.2|24.0|\n",
            "| 78.9|21.6|\n",
            "| 61.1|34.7|\n",
            "| 45.8|33.4|\n",
            "| 54.2|36.2|\n",
            "| 58.7|28.7|\n",
            "| 66.6|22.9|\n",
            "| 96.1|27.1|\n",
            "|100.0|16.5|\n",
            "| 85.9|18.9|\n",
            "| 94.3|15.0|\n",
            "| 82.9|18.9|\n",
            "| 39.0|21.7|\n",
            "| 61.8|20.4|\n",
            "| 84.5|18.2|\n",
            "| 56.5|19.9|\n",
            "| 29.3|23.1|\n",
            "| 81.7|17.5|\n",
            "| 36.6|20.2|\n",
            "| 69.5|18.2|\n",
            "+-----+----+\n",
            "only showing top 20 rows\n",
            "\n"
          ]
        }
      ]
    },
    {
      "cell_type": "code",
      "source": [
        "# Task 2: Plot a scatter plot of property age against median home value using a data visualization tool of your choice.\n",
        "import matplotlib.pyplot as plt\n",
        "\n",
        "# Collect data\n",
        "property_age_data = df.select(\"age\", \"medv\").toPandas()\n",
        "\n",
        "# Scatter plot\n",
        "plt.figure(figsize=(10, 6))\n",
        "plt.scatter(property_age_data['age'], property_age_data['medv'], alpha=0.6)\n",
        "plt.title('Scatter Plot of Property Age vs. Median Home Value')\n",
        "plt.xlabel('Property Age')\n",
        "plt.ylabel('Median Home Value')\n",
        "plt.grid(True)\n",
        "plt.show()"
      ],
      "metadata": {
        "colab": {
          "base_uri": "https://localhost:8080/",
          "height": 564
        },
        "id": "Sqmzpv8ZLyhT",
        "outputId": "b42d6d48-0212-4763-9c46-54629e30e7d4"
      },
      "execution_count": 28,
      "outputs": [
        {
          "output_type": "display_data",
          "data": {
            "text/plain": [
              "<Figure size 1000x600 with 1 Axes>"
            ],
            "image/png": "[encoded data removed]"
          },
          "metadata": {}
        }
      ]
    },
    {
      "cell_type": "markdown",
      "source": [
        "# Task 8: Outliers Detection"
      ],
      "metadata": {
        "id": "9HUEYE-G1H3c"
      }
    },
    {
      "cell_type": "code",
      "source": [
        "# Task 1: Write a query to identify and report properties with a \"crim\" value greater than 10 (considered as potential outliers).\n",
        "outliers_query = \"\"\"\n",
        "SELECT *\n",
        "FROM bostonhousing.bos_housing\n",
        "WHERE crim > 10\n",
        "\"\"\"\n",
        "\n",
        "# Execute the query\n",
        "outliers = spark.sql(outliers_query)\n",
        "outliers.show()"
      ],
      "metadata": {
        "id": "aVq0Kdvh0_8W",
        "colab": {
          "base_uri": "https://localhost:8080/"
        },
        "outputId": "24509895-4c71-4853-c468-34a4106abba3"
      },
      "execution_count": 29,
      "outputs": [
        {
          "output_type": "stream",
          "name": "stdout",
          "text": [
            "+-------+---+-----+----+-----+-----+-----+------+---+---+-------+------+-----+----+\n",
            "|   crim| zn|indus|chas|  nox|   rm|  age|   dis|rad|tax|ptratio|     b|lstat|medv|\n",
            "+-------+---+-----+----+-----+-----+-----+------+---+---+-------+------+-----+----+\n",
            "|13.5222|0.0| 18.1|   0|0.631|3.863|100.0|1.5106| 24|666|   20.2|131.42|13.33|23.1|\n",
            "|11.1081|0.0| 18.1|   0|0.668|4.906|100.0|1.1742| 24|666|   20.2| 396.9|34.77|13.8|\n",
            "|18.4982|0.0| 18.1|   0|0.668|4.138|100.0| 1.137| 24|666|   20.2| 396.9|37.97|13.8|\n",
            "|19.6091|0.0| 18.1|   0|0.671|7.313| 97.9|1.3163| 24|666|   20.2| 396.9|13.44|15.0|\n",
            "| 15.288|0.0| 18.1|   0|0.671|6.649| 93.3|1.3449| 24|666|   20.2|363.02|23.24|13.9|\n",
            "|23.6482|0.0| 18.1|   0|0.671| 6.38| 96.2|1.3861| 24|666|   20.2| 396.9|23.69|13.1|\n",
            "|17.8667|0.0| 18.1|   0|0.671|6.223|100.0|1.3861| 24|666|   20.2|393.74|21.78|10.2|\n",
            "|88.9762|0.0| 18.1|   0|0.671|6.968| 91.9|1.4165| 24|666|   20.2| 396.9|17.21|10.4|\n",
            "|15.8744|0.0| 18.1|   0|0.671|6.545| 99.1|1.5192| 24|666|   20.2| 396.9|21.08|10.9|\n",
            "|20.0849|0.0| 18.1|   0|  0.7|4.368| 91.2|1.4395| 24|666|   20.2|285.83|30.63| 8.8|\n",
            "|16.8118|0.0| 18.1|   0|  0.7|5.277| 98.1|1.4261| 24|666|   20.2| 396.9|30.81| 7.2|\n",
            "|24.3938|0.0| 18.1|   0|  0.7|4.652|100.0|1.4672| 24|666|   20.2| 396.9|28.28|10.5|\n",
            "|22.5971|0.0| 18.1|   0|  0.7|  5.0| 89.5|1.5184| 24|666|   20.2| 396.9|31.99| 7.4|\n",
            "|14.3337|0.0| 18.1|   0|  0.7| 4.88|100.0|1.5895| 24|666|   20.2|372.92|30.62|10.2|\n",
            "|11.5779|0.0| 18.1|   0|  0.7|5.036| 97.0|  1.77| 24|666|   20.2| 396.9|25.68| 9.7|\n",
            "|13.3598|0.0| 18.1|   0|0.693|5.887| 94.7|1.7821| 24|666|   20.2| 396.9|16.35|12.7|\n",
            "|38.3518|0.0| 18.1|   0|0.693|5.453|100.0|1.4896| 24|666|   20.2| 396.9|30.59| 5.0|\n",
            "|25.0461|0.0| 18.1|   0|0.693|5.987|100.0|1.5888| 24|666|   20.2| 396.9|26.77| 5.6|\n",
            "|14.2362|0.0| 18.1|   0|0.693|6.343|100.0|1.5741| 24|666|   20.2| 396.9|20.32| 7.2|\n",
            "|24.8017|0.0| 18.1|   0|0.693|5.349| 96.0|1.7028| 24|666|   20.2| 396.9|19.77| 8.3|\n",
            "+-------+---+-----+----+-----+-----+-----+------+---+---+-------+------+-----+----+\n",
            "only showing top 20 rows\n",
            "\n"
          ]
        }
      ]
    },
    {
      "cell_type": "code",
      "source": [
        "# Task 2: Discuss the significance of detecting outliers in data analysis.\n",
        "\n",
        "# An outlier is a data point that differs significantly from other data points in a dataset.\n",
        "# Outliers can be caused by measurement errors, data corruption, or real-world events such as natural disasters.\n",
        "# Outliers can significantly affect the results of a machine learning model, especially if they are not detected and handled appropriately.\n",
        "\n",
        "# Outliers can have a significant impact on the accuracy of machine learning models.\n",
        "# If outliers are not detected and handled appropriately, they can lead to overfitting, underfitting, or biased results."
      ],
      "metadata": {
        "id": "Sd-pmpPDMnlH"
      },
      "execution_count": null,
      "outputs": []
    },
    {
      "cell_type": "markdown",
      "source": [
        "# Task 9: Hypothesis Testing (20 minutes)"
      ],
      "metadata": {
        "id": "zwbDfP5P1JJ0"
      }
    },
    {
      "cell_type": "code",
      "source": [
        "# Task 1: Formulate a hypothesis about the impact of the \"rm\" (average number of rooms) on median home value.\n",
        "# Hypothesis: There is a positive relationship between the average number of rooms (\"rm\") and the median home value (\"medv\").\n",
        "#     H0: There is no linear relationship between the average number of rooms and the median home value.\n",
        "#     H1: There is a linear relationship between the average number of rooms and the median home value."
      ],
      "metadata": {
        "id": "3VPJHFWM1BDR"
      },
      "execution_count": null,
      "outputs": []
    },
    {
      "cell_type": "code",
      "source": [
        "# Task 2: Conduct a hypothesis test using HiveQL to determine if there is a statistically significant relationship between these variables.\n",
        "\n",
        "correlation_rm_medv_query = \"\"\"\n",
        "SELECT corr(rm, medv) AS correlation\n",
        "FROM bostonhousing.bos_housing\n",
        "\"\"\"\n",
        "\n",
        "# Execute the query\n",
        "correlation_rm_medv_result = spark.sql(correlation_rm_medv_query)\n",
        "correlation_rm_medv = correlation_rm_medv_result.first()[0]\n",
        "\n",
        "print(f\"Correlation coefficient between 'rm' and 'medv': {correlation_rm_medv}\")\n"
      ],
      "metadata": {
        "colab": {
          "base_uri": "https://localhost:8080/"
        },
        "id": "orVBT8UmNq0l",
        "outputId": "dcc5d252-6fce-4708-ae14-9796afac2004"
      },
      "execution_count": 31,
      "outputs": [
        {
          "output_type": "stream",
          "name": "stdout",
          "text": [
            "Correlation coefficient between 'rm' and 'medv': 0.6953599470715401\n"
          ]
        }
      ]
    },
    {
      "cell_type": "code",
      "source": [
        "import math\n",
        "\n",
        "r = correlation_rm_medv\n",
        "n = df.count()  # Number of data points\n",
        "\n",
        "t_statistic = r * math.sqrt(n - 2) / math.sqrt(1 - r**2)\n",
        "print(f\"t-statistic: {t_statistic}\")\n"
      ],
      "metadata": {
        "colab": {
          "base_uri": "https://localhost:8080/"
        },
        "id": "BTyotWUBPA3r",
        "outputId": "e3e9ec70-6b53-4205-8937-792d1218d109"
      },
      "execution_count": 32,
      "outputs": [
        {
          "output_type": "stream",
          "name": "stdout",
          "text": [
            "t-statistic: 21.7220335115382\n"
          ]
        }
      ]
    },
    {
      "cell_type": "code",
      "source": [
        "# Given the high correlation coefficient and the significant t-statistic value.\n",
        "# it indicates a strong linear relationship between the average number of rooms and the median home value.\n",
        "# Therefore, you would reject the null hypothesis (H0) and accept the alternative hypothesis (H1),\n",
        "# concluding that there is indeed a linear relationship between the average number of rooms and the median home value."
      ],
      "metadata": {
        "id": "qZzWuXtJPxE6"
      },
      "execution_count": null,
      "outputs": []
    }
  ]
}